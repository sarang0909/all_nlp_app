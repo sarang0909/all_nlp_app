{
    "cells": [
        {
            "cell_type": "code",
            "execution_count": 3,
            "metadata": {},
            "outputs": [],
            "source": [
                "import pandas as pd\n",
                "from sentence_transformers import SentenceTransformer"
            ]
        },
        {
            "cell_type": "code",
            "execution_count": 4,
            "metadata": {},
            "outputs": [],
            "source": [
                "dataset = pd.read_csv('../../data/paragraph_clean_data.csv')"
            ]
        },
        {
            "cell_type": "code",
            "execution_count": 5,
            "metadata": {},
            "outputs": [
                {
                    "name": "stdout",
                    "output_type": "stream",
                    "text": [
                        "<class 'pandas.core.frame.DataFrame'>\n",
                        "RangeIndex: 79 entries, 0 to 78\n",
                        "Data columns (total 3 columns):\n",
                        " #   Column      Non-Null Count  Dtype \n",
                        "---  ------      --------------  ----- \n",
                        " 0   Unnamed: 0  79 non-null     int64 \n",
                        " 1   paragraph   79 non-null     object\n",
                        " 2   url         79 non-null     object\n",
                        "dtypes: int64(1), object(2)\n",
                        "memory usage: 2.0+ KB\n"
                    ]
                }
            ],
            "source": [
                "dataset.info()"
            ]
        },
        {
            "cell_type": "code",
            "execution_count": 6,
            "metadata": {},
            "outputs": [],
            "source": [
                "encoder_model = SentenceTransformer('all-MiniLM-L6-v2')\n",
                "# Utility function for generating sentence embedding from the text\n",
                "def get_embeddinngs(text):\n",
                "    return encoder_model.encode(text)\n"
            ]
        },
        {
            "cell_type": "code",
            "execution_count": 7,
            "metadata": {},
            "outputs": [],
            "source": [
                "\n",
                "# Generating sentence embedding from the text\n",
                "dataset['embeddings'] = dataset['paragraph'].apply(get_embeddinngs)"
            ]
        },
        {
            "cell_type": "code",
            "execution_count": 8,
            "metadata": {},
            "outputs": [
                {
                    "name": "stdout",
                    "output_type": "stream",
                    "text": [
                        "<Response [200]>\n",
                        "Elasticsearch is up and running!\n"
                    ]
                }
            ],
            "source": [
                "import requests\n",
                "substring = \"You Know, for Search\".encode()\n",
                "response = requests.get(\"http://localhost:9200\")\n",
                "print(response)\n",
                "if substring in response.content:\n",
                "   print(\"Elasticsearch is up and running!\")\n",
                "else:\n",
                "   print(\"Something went wrong, ensure the cluster is up!\")"
            ]
        },
        {
            "cell_type": "code",
            "execution_count": 9,
            "metadata": {},
            "outputs": [
                {
                    "data": {
                        "text/plain": [
                            "(384,)"
                        ]
                    },
                    "execution_count": 9,
                    "metadata": {},
                    "output_type": "execute_result"
                }
            ],
            "source": [
                "dataset['embeddings'][0].shape"
            ]
        },
        {
            "cell_type": "code",
            "execution_count": 10,
            "metadata": {},
            "outputs": [],
            "source": [
                "settings= {\n",
                "    \"number_of_shards\": 1,\n",
                "  }\n",
                "mappings = {\n",
                "    \"properties\": {\n",
                "         \"embeddings\": { \n",
                "                        \"type\": \"dense_vector\",\n",
                "                        \"dims\": 384,\n",
                "                        \"index\": True,\n",
                "                        \"similarity\": \"cosine\" },\n",
                "          \"paragraph\":{ \"type\":\"text\"},\n",
                "          \"url\":{ \"type\":\"text\"}\n",
                "    }\n",
                "  }"
            ]
        },
        {
            "cell_type": "code",
            "execution_count": 11,
            "metadata": {},
            "outputs": [
                {
                    "data": {
                        "text/plain": [
                            "ObjectApiResponse({'acknowledged': True, 'shards_acknowledged': True, 'index': 'articles'})"
                        ]
                    },
                    "execution_count": 11,
                    "metadata": {},
                    "output_type": "execute_result"
                }
            ],
            "source": [
                "from elasticsearch import Elasticsearch\n",
                "\n",
                "es = Elasticsearch(\"http://localhost:9200\")\n",
                "es.indices.delete(index='articles')\n",
                "es.indices.create(index='articles', settings=settings, mappings=mappings)"
            ]
        },
        {
            "cell_type": "code",
            "execution_count": 12,
            "metadata": {},
            "outputs": [
                {
                    "name": "stdout",
                    "output_type": "stream",
                    "text": [
                        "Total articles inserted: 79\n"
                    ]
                }
            ],
            "source": [
                "rows = 0\n",
                "elk_data = dataset.to_dict(\"records\") \n",
                "\n",
                "for article_row in elk_data:\n",
                "  es.index(index=\"articles\",document=article_row)\n",
                "  rows += 1\n",
                "print(\"Total articles inserted: {}\".format(rows))"
            ]
        },
        {
            "cell_type": "code",
            "execution_count": 19,
            "metadata": {},
            "outputs": [],
            "source": [
                "# Inference Code\n",
                "\n",
                "def search(query, limit=3):\n",
                "  token_vector = get_embeddinngs(query)\n",
                "  es_query ={\n",
                "   \"size\":limit,\n",
                "   \"knn\": {\n",
                "    \"field\": \"embeddings\",\n",
                "    \"query_vector\": token_vector,\n",
                "    \"k\": 10,\n",
                "    \"num_candidates\": 100\n",
                "  },\n",
                "  }\n",
                "  results = pd.DataFrame(columns = [\"similarity_score\", \"article_url\",'article_text'])\n",
                "  for result in es.search(index=\"articles\", body=es_query)[\"hits\"][\"hits\"]:\n",
                "    #print(result['_score'])\n",
                "    #print(result['_source']['paragraph'])\n",
                "    new_row = pd.Series({'similarity_score': result['_score'], 'article_url':result['_source']['url'],'article_text':result['_source']['paragraph']})\n",
                "    results = pd.concat([results, new_row.to_frame().T], ignore_index=True)\n",
                "  return results"
            ]
        },
        {
            "cell_type": "code",
            "execution_count": 20,
            "metadata": {},
            "outputs": [
                {
                    "name": "stdout",
                    "output_type": "stream",
                    "text": [
                        "  similarity_score                                        article_url  \\\n",
                        "0         0.812898  https://www.reuters.com/video/watch/idOV554115...   \n",
                        "1         0.781714  https://www.reuters.com/business/autos-transpo...   \n",
                        "2         0.762682  https://www.reuters.com/business/autos-transpo...   \n",
                        "3         0.759719  https://www.reuters.com/business/autos-transpo...   \n",
                        "4         0.756305  https://www.reuters.com/business/autos-transpo...   \n",
                        "\n",
                        "                                        article_text  \n",
                        "0  Business Tesla weighs China sales reset Posted...  \n",
                        "1  SHANGHAI Sept 15 Reuters Tesla is reevaluating...  \n",
                        "2  Register now for FREE unlimited access to Reut...  \n",
                        "3  Register now for FREE unlimited access to Reut...  \n",
                        "4  Tesla Inc CEO Elon Musk and Shanghai is Mayor ...  \n"
                    ]
                },
                {
                    "name": "stderr",
                    "output_type": "stream",
                    "text": [
                        "C:\\Users\\metes\\AppData\\Local\\Temp\\ipykernel_21428\\275872758.py:15: DeprecationWarning: The 'body' parameter is deprecated and will be removed in a future version. Instead use individual parameters.\n",
                        "  for result in es.search(index=\"articles\", body=es_query)[\"hits\"][\"hits\"]:\n"
                    ]
                }
            ],
            "source": [
                "query = \"China and Tesla\"\n",
                "\n",
                "results = search(query, 5)\n",
                "print(results)"
            ]
        },
        {
            "cell_type": "code",
            "execution_count": null,
            "metadata": {},
            "outputs": [],
            "source": []
        }
    ],
    "metadata": {
        "kernelspec": {
            "display_name": "Python 3.8.13 ('semantic_search_api')",
            "language": "python",
            "name": "python3"
        },
        "language_info": {
            "codemirror_mode": {
                "name": "ipython",
                "version": 3
            },
            "file_extension": ".py",
            "mimetype": "text/x-python",
            "name": "python",
            "nbconvert_exporter": "python",
            "pygments_lexer": "ipython3",
            "version": "3.8.13"
        },
        "orig_nbformat": 4,
        "vscode": {
            "interpreter": {
                "hash": "55df16ff64e9c78b3a7965dd2238b97852cf2f250eb658b4807682d11d53b305"
            }
        }
    },
    "nbformat": 4,
    "nbformat_minor": 2
}
